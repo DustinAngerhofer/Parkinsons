{
 "cells": [
  {
   "cell_type": "markdown",
   "metadata": {},
   "source": [
    "# Parkinson's Data Cleaning\n",
    "By Dustin Angerhofer, Sean Gallacher, and James Larsen\n",
    "\n",
    "Project based on [this competition](https://www.kaggle.com/competitions/amp-parkinsons-disease-progression-prediction/overview/code-requirements)"
   ]
  },
  {
   "cell_type": "code",
   "execution_count": 25,
   "metadata": {
    "tags": []
   },
   "outputs": [],
   "source": [
    "# import necessary dependencies\n",
    "import numpy as np\n",
    "import pandas as pd\n",
    "from matplotlib import pyplot as plt"
   ]
  },
  {
   "cell_type": "markdown",
   "metadata": {},
   "source": [
    "Notice the data set we are using already has a temporal train-test split provided. Thus, below we only load the training data for exploration and modelling and set aside the test data provided until later."
   ]
  },
  {
   "cell_type": "code",
   "execution_count": 7,
   "metadata": {
    "collapsed": false,
    "jupyter": {
     "outputs_hidden": false
    },
    "pycharm": {
     "name": "#%%\n"
    }
   },
   "outputs": [],
   "source": [
    "# load data\n",
    "proteins = pd.read_csv('train_proteins.csv')\n",
    "clinical = pd.read_csv('train_clinical_data.csv')\n",
    "peptides = pd.read_csv('train_peptides.csv')"
   ]
  },
  {
   "cell_type": "markdown",
   "metadata": {},
   "source": [
    "We first look at the `proteins` and `peptides` data."
   ]
  },
  {
   "cell_type": "code",
   "execution_count": 5,
   "metadata": {
    "collapsed": false,
    "jupyter": {
     "outputs_hidden": false
    },
    "pycharm": {
     "name": "#%%\n"
    }
   },
   "outputs": [
    {
     "data": {
      "text/html": [
       "<div>\n",
       "<style scoped>\n",
       "    .dataframe tbody tr th:only-of-type {\n",
       "        vertical-align: middle;\n",
       "    }\n",
       "\n",
       "    .dataframe tbody tr th {\n",
       "        vertical-align: top;\n",
       "    }\n",
       "\n",
       "    .dataframe thead th {\n",
       "        text-align: right;\n",
       "    }\n",
       "</style>\n",
       "<table border=\"1\" class=\"dataframe\">\n",
       "  <thead>\n",
       "    <tr style=\"text-align: right;\">\n",
       "      <th></th>\n",
       "      <th>visit_id</th>\n",
       "      <th>visit_month</th>\n",
       "      <th>patient_id</th>\n",
       "      <th>UniProt</th>\n",
       "      <th>NPX</th>\n",
       "    </tr>\n",
       "  </thead>\n",
       "  <tbody>\n",
       "    <tr>\n",
       "      <th>0</th>\n",
       "      <td>55_0</td>\n",
       "      <td>0</td>\n",
       "      <td>55</td>\n",
       "      <td>O00391</td>\n",
       "      <td>11254.3</td>\n",
       "    </tr>\n",
       "    <tr>\n",
       "      <th>1</th>\n",
       "      <td>55_0</td>\n",
       "      <td>0</td>\n",
       "      <td>55</td>\n",
       "      <td>O00533</td>\n",
       "      <td>732430.0</td>\n",
       "    </tr>\n",
       "    <tr>\n",
       "      <th>2</th>\n",
       "      <td>55_0</td>\n",
       "      <td>0</td>\n",
       "      <td>55</td>\n",
       "      <td>O00584</td>\n",
       "      <td>39585.8</td>\n",
       "    </tr>\n",
       "    <tr>\n",
       "      <th>3</th>\n",
       "      <td>55_0</td>\n",
       "      <td>0</td>\n",
       "      <td>55</td>\n",
       "      <td>O14498</td>\n",
       "      <td>41526.9</td>\n",
       "    </tr>\n",
       "    <tr>\n",
       "      <th>4</th>\n",
       "      <td>55_0</td>\n",
       "      <td>0</td>\n",
       "      <td>55</td>\n",
       "      <td>O14773</td>\n",
       "      <td>31238.0</td>\n",
       "    </tr>\n",
       "    <tr>\n",
       "      <th>...</th>\n",
       "      <td>...</td>\n",
       "      <td>...</td>\n",
       "      <td>...</td>\n",
       "      <td>...</td>\n",
       "      <td>...</td>\n",
       "    </tr>\n",
       "    <tr>\n",
       "      <th>232736</th>\n",
       "      <td>58648_108</td>\n",
       "      <td>108</td>\n",
       "      <td>58648</td>\n",
       "      <td>Q9UBX5</td>\n",
       "      <td>27387.8</td>\n",
       "    </tr>\n",
       "    <tr>\n",
       "      <th>232737</th>\n",
       "      <td>58648_108</td>\n",
       "      <td>108</td>\n",
       "      <td>58648</td>\n",
       "      <td>Q9UHG2</td>\n",
       "      <td>369437.0</td>\n",
       "    </tr>\n",
       "    <tr>\n",
       "      <th>232738</th>\n",
       "      <td>58648_108</td>\n",
       "      <td>108</td>\n",
       "      <td>58648</td>\n",
       "      <td>Q9UKV8</td>\n",
       "      <td>105830.0</td>\n",
       "    </tr>\n",
       "    <tr>\n",
       "      <th>232739</th>\n",
       "      <td>58648_108</td>\n",
       "      <td>108</td>\n",
       "      <td>58648</td>\n",
       "      <td>Q9Y646</td>\n",
       "      <td>21257.6</td>\n",
       "    </tr>\n",
       "    <tr>\n",
       "      <th>232740</th>\n",
       "      <td>58648_108</td>\n",
       "      <td>108</td>\n",
       "      <td>58648</td>\n",
       "      <td>Q9Y6R7</td>\n",
       "      <td>17953.1</td>\n",
       "    </tr>\n",
       "  </tbody>\n",
       "</table>\n",
       "<p>232741 rows × 5 columns</p>\n",
       "</div>"
      ],
      "text/plain": [
       "         visit_id  visit_month  patient_id UniProt       NPX\n",
       "0            55_0            0          55  O00391   11254.3\n",
       "1            55_0            0          55  O00533  732430.0\n",
       "2            55_0            0          55  O00584   39585.8\n",
       "3            55_0            0          55  O14498   41526.9\n",
       "4            55_0            0          55  O14773   31238.0\n",
       "...           ...          ...         ...     ...       ...\n",
       "232736  58648_108          108       58648  Q9UBX5   27387.8\n",
       "232737  58648_108          108       58648  Q9UHG2  369437.0\n",
       "232738  58648_108          108       58648  Q9UKV8  105830.0\n",
       "232739  58648_108          108       58648  Q9Y646   21257.6\n",
       "232740  58648_108          108       58648  Q9Y6R7   17953.1\n",
       "\n",
       "[232741 rows x 5 columns]"
      ]
     },
     "execution_count": 5,
     "metadata": {},
     "output_type": "execute_result"
    }
   ],
   "source": [
    "proteins"
   ]
  },
  {
   "cell_type": "code",
   "execution_count": 17,
   "metadata": {},
   "outputs": [
    {
     "data": {
      "text/html": [
       "<div>\n",
       "<style scoped>\n",
       "    .dataframe tbody tr th:only-of-type {\n",
       "        vertical-align: middle;\n",
       "    }\n",
       "\n",
       "    .dataframe tbody tr th {\n",
       "        vertical-align: top;\n",
       "    }\n",
       "\n",
       "    .dataframe thead th {\n",
       "        text-align: right;\n",
       "    }\n",
       "</style>\n",
       "<table border=\"1\" class=\"dataframe\">\n",
       "  <thead>\n",
       "    <tr style=\"text-align: right;\">\n",
       "      <th></th>\n",
       "      <th>visit_id</th>\n",
       "      <th>visit_month</th>\n",
       "      <th>patient_id</th>\n",
       "      <th>UniProt</th>\n",
       "      <th>Peptide</th>\n",
       "      <th>PeptideAbundance</th>\n",
       "    </tr>\n",
       "  </thead>\n",
       "  <tbody>\n",
       "    <tr>\n",
       "      <th>0</th>\n",
       "      <td>55_0</td>\n",
       "      <td>0</td>\n",
       "      <td>55</td>\n",
       "      <td>O00391</td>\n",
       "      <td>NEQEQPLGQWHLS</td>\n",
       "      <td>11254.30</td>\n",
       "    </tr>\n",
       "    <tr>\n",
       "      <th>1</th>\n",
       "      <td>55_0</td>\n",
       "      <td>0</td>\n",
       "      <td>55</td>\n",
       "      <td>O00533</td>\n",
       "      <td>GNPEPTFSWTK</td>\n",
       "      <td>102060.00</td>\n",
       "    </tr>\n",
       "    <tr>\n",
       "      <th>2</th>\n",
       "      <td>55_0</td>\n",
       "      <td>0</td>\n",
       "      <td>55</td>\n",
       "      <td>O00533</td>\n",
       "      <td>IEIPSSVQQVPTIIK</td>\n",
       "      <td>174185.00</td>\n",
       "    </tr>\n",
       "    <tr>\n",
       "      <th>3</th>\n",
       "      <td>55_0</td>\n",
       "      <td>0</td>\n",
       "      <td>55</td>\n",
       "      <td>O00533</td>\n",
       "      <td>KPQSAVYSTGSNGILLC(UniMod_4)EAEGEPQPTIK</td>\n",
       "      <td>27278.90</td>\n",
       "    </tr>\n",
       "    <tr>\n",
       "      <th>4</th>\n",
       "      <td>55_0</td>\n",
       "      <td>0</td>\n",
       "      <td>55</td>\n",
       "      <td>O00533</td>\n",
       "      <td>SMEQNGPGLEYR</td>\n",
       "      <td>30838.70</td>\n",
       "    </tr>\n",
       "    <tr>\n",
       "      <th>...</th>\n",
       "      <td>...</td>\n",
       "      <td>...</td>\n",
       "      <td>...</td>\n",
       "      <td>...</td>\n",
       "      <td>...</td>\n",
       "      <td>...</td>\n",
       "    </tr>\n",
       "    <tr>\n",
       "      <th>981829</th>\n",
       "      <td>58648_108</td>\n",
       "      <td>108</td>\n",
       "      <td>58648</td>\n",
       "      <td>Q9UHG2</td>\n",
       "      <td>ILAGSADSEGVAAPR</td>\n",
       "      <td>202820.00</td>\n",
       "    </tr>\n",
       "    <tr>\n",
       "      <th>981830</th>\n",
       "      <td>58648_108</td>\n",
       "      <td>108</td>\n",
       "      <td>58648</td>\n",
       "      <td>Q9UKV8</td>\n",
       "      <td>SGNIPAGTTVDTK</td>\n",
       "      <td>105830.00</td>\n",
       "    </tr>\n",
       "    <tr>\n",
       "      <th>981831</th>\n",
       "      <td>58648_108</td>\n",
       "      <td>108</td>\n",
       "      <td>58648</td>\n",
       "      <td>Q9Y646</td>\n",
       "      <td>LALLVDTVGPR</td>\n",
       "      <td>21257.60</td>\n",
       "    </tr>\n",
       "    <tr>\n",
       "      <th>981832</th>\n",
       "      <td>58648_108</td>\n",
       "      <td>108</td>\n",
       "      <td>58648</td>\n",
       "      <td>Q9Y6R7</td>\n",
       "      <td>AGC(UniMod_4)VAESTAVC(UniMod_4)R</td>\n",
       "      <td>5127.26</td>\n",
       "    </tr>\n",
       "    <tr>\n",
       "      <th>981833</th>\n",
       "      <td>58648_108</td>\n",
       "      <td>108</td>\n",
       "      <td>58648</td>\n",
       "      <td>Q9Y6R7</td>\n",
       "      <td>GATTSPGVYELSSR</td>\n",
       "      <td>12825.90</td>\n",
       "    </tr>\n",
       "  </tbody>\n",
       "</table>\n",
       "<p>981834 rows × 6 columns</p>\n",
       "</div>"
      ],
      "text/plain": [
       "         visit_id  visit_month  patient_id UniProt  \\\n",
       "0            55_0            0          55  O00391   \n",
       "1            55_0            0          55  O00533   \n",
       "2            55_0            0          55  O00533   \n",
       "3            55_0            0          55  O00533   \n",
       "4            55_0            0          55  O00533   \n",
       "...           ...          ...         ...     ...   \n",
       "981829  58648_108          108       58648  Q9UHG2   \n",
       "981830  58648_108          108       58648  Q9UKV8   \n",
       "981831  58648_108          108       58648  Q9Y646   \n",
       "981832  58648_108          108       58648  Q9Y6R7   \n",
       "981833  58648_108          108       58648  Q9Y6R7   \n",
       "\n",
       "                                       Peptide  PeptideAbundance  \n",
       "0                                NEQEQPLGQWHLS          11254.30  \n",
       "1                                  GNPEPTFSWTK         102060.00  \n",
       "2                              IEIPSSVQQVPTIIK         174185.00  \n",
       "3       KPQSAVYSTGSNGILLC(UniMod_4)EAEGEPQPTIK          27278.90  \n",
       "4                                 SMEQNGPGLEYR          30838.70  \n",
       "...                                        ...               ...  \n",
       "981829                         ILAGSADSEGVAAPR         202820.00  \n",
       "981830                           SGNIPAGTTVDTK         105830.00  \n",
       "981831                             LALLVDTVGPR          21257.60  \n",
       "981832        AGC(UniMod_4)VAESTAVC(UniMod_4)R           5127.26  \n",
       "981833                          GATTSPGVYELSSR          12825.90  \n",
       "\n",
       "[981834 rows x 6 columns]"
      ]
     },
     "execution_count": 17,
     "metadata": {},
     "output_type": "execute_result"
    }
   ],
   "source": [
    "peptides"
   ]
  },
  {
   "cell_type": "code",
   "execution_count": 16,
   "metadata": {},
   "outputs": [
    {
     "name": "stdout",
     "output_type": "stream",
     "text": [
      "Missing protein values:\t0\n",
      "Missing peptide values:\t0\n"
     ]
    }
   ],
   "source": [
    "print(f\"Missing protein values:\\t{proteins.isna().sum().sum()}\")\n",
    "print(f\"Missing peptide values:\\t{peptides.isna().sum().sum()}\")"
   ]
  },
  {
   "cell_type": "markdown",
   "metadata": {},
   "source": [
    "We have absolutely no missing values in our protein or peptide dataset, which is great news."
   ]
  },
  {
   "cell_type": "code",
   "execution_count": 6,
   "metadata": {
    "collapsed": false,
    "jupyter": {
     "outputs_hidden": false
    },
    "pycharm": {
     "name": "#%%\n"
    }
   },
   "outputs": [
    {
     "data": {
      "text/plain": [
       "array(['O00391', 'O00533', 'O00584', 'O14498', 'O14773', 'O14791',\n",
       "       'O15240', 'O15394', 'O43505', 'O60888', 'O75144', 'O75326',\n",
       "       'O94919', 'P00441', 'P00450', 'P00734', 'P00736', 'P00738',\n",
       "       'P00746', 'P00747', 'P00748', 'P00751', 'P01008', 'P01009',\n",
       "       'P01011', 'P01019', 'P01023', 'P01024', 'P01031', 'P01033',\n",
       "       'P01034', 'P01042', 'P01344', 'P01591', 'P01594', 'P01608',\n",
       "       'P01621', 'P01717', 'P01780', 'P01833', 'P01834', 'P01857',\n",
       "       'P01859', 'P01860', 'P01861', 'P01876', 'P01877', 'P02452',\n",
       "       'P02647', 'P02649', 'P02652', 'P02655', 'P02656', 'P02671',\n",
       "       'P02675', 'P02679', 'P02747', 'P02748', 'P02749', 'P02750',\n",
       "       'P02751', 'P02753', 'P02760', 'P02763', 'P02765', 'P02766',\n",
       "       'P02768', 'P02774', 'P02787', 'P02790', 'P02792', 'P04004',\n",
       "       'P04075', 'P04156', 'P04180', 'P04196', 'P04207', 'P04211',\n",
       "       'P04216', 'P04217', 'P04275', 'P04406', 'P04433', 'P05060',\n",
       "       'P05067', 'P05090', 'P05155', 'P05156', 'P05408', 'P05452',\n",
       "       'P05546', 'P06310', 'P06396', 'P06454', 'P06681', 'P06727',\n",
       "       'P07195', 'P07225', 'P07333', 'P07339', 'P07602', 'P07711',\n",
       "       'P07858', 'P07998', 'P08123', 'P08133', 'P08253', 'P08294',\n",
       "       'P08493', 'P08571', 'P08603', 'P08637', 'P08697', 'P09104',\n",
       "       'P09486', 'P09871', 'P10451', 'P10643', 'P10645', 'P10909',\n",
       "       'P11142', 'P11277', 'P12109', 'P13473', 'P13521', 'P13591',\n",
       "       'P13611', 'P13671', 'P13987', 'P14174', 'P14314', 'P14618',\n",
       "       'P16035', 'P16070', 'P16152', 'P16870', 'P17174', 'P17936',\n",
       "       'P18065', 'P19021', 'P19652', 'P19823', 'P19827', 'P20774',\n",
       "       'P20933', 'P23083', 'P23142', 'P24592', 'P25311', 'P27169',\n",
       "       'P30086', 'P31997', 'P32754', 'P35542', 'P36222', 'P36955',\n",
       "       'P36980', 'P39060', 'P40925', 'P41222', 'P43121', 'P43251',\n",
       "       'P43652', 'P49588', 'P49908', 'P51884', 'P54289', 'P55290',\n",
       "       'P60174', 'P61278', 'P61626', 'P61769', 'P61916', 'P80748',\n",
       "       'P98160', 'Q02818', 'Q06481', 'Q08380', 'Q12805', 'Q12841',\n",
       "       'Q12907', 'Q13283', 'Q13332', 'Q13449', 'Q13451', 'Q13740',\n",
       "       'Q14118', 'Q14508', 'Q14515', 'Q14624', 'Q15904', 'Q16270',\n",
       "       'Q16610', 'Q562R1', 'Q6UX71', 'Q6UXB8', 'Q6UXD5', 'Q7Z3B1',\n",
       "       'Q7Z5P9', 'Q8IWV7', 'Q8N2S1', 'Q8NBJ4', 'Q8NE71', 'Q92520',\n",
       "       'Q92823', 'Q92876', 'Q96BZ4', 'Q96KN2', 'Q96PD5', 'Q96S96',\n",
       "       'Q99435', 'Q99674', 'Q99683', 'Q99829', 'Q99832', 'Q99969',\n",
       "       'Q9BY67', 'Q9HDC9', 'Q9NQ79', 'Q9NYU2', 'Q9UBR2', 'Q9UBX5',\n",
       "       'Q9UHG2', 'Q9UKV8', 'Q9UNU6', 'Q9Y646', 'Q9Y6R7'], dtype=object)"
      ]
     },
     "execution_count": 6,
     "metadata": {},
     "output_type": "execute_result"
    }
   ],
   "source": [
    "np.unique(proteins.UniProt)"
   ]
  },
  {
   "cell_type": "code",
   "execution_count": 52,
   "metadata": {},
   "outputs": [
    {
     "data": {
      "image/png": "[encoded data removed]",
      "text/plain": [
       "<Figure size 640x480 with 6 Axes>"
      ]
     },
     "metadata": {},
     "output_type": "display_data"
    }
   ],
   "source": [
    "# set number of rows and columns\n",
    "nr, nc = 3, 2\n",
    "starti = 50\n",
    "_, axs = plt.subplots(nr,nc)\n",
    "plt.suptitle(\"Histograms of Protein Expression Across Patients\")\n",
    "\n",
    "# loop over proteins and plot distribution\n",
    "some_prot = np.unique(proteins.UniProt)[starti:starti+nr*nc]\n",
    "for i, prot in enumerate(some_prot):\n",
    "    cur_ax = axs[i//nc, i%nc]\n",
    "    proteins[proteins.UniProt == prot].NPX.hist(density=True, ax=cur_ax)\n",
    "    cur_ax.set_title(prot)\n",
    "plt.tight_layout()\n",
    "plt.show()"
   ]
  },
  {
   "cell_type": "markdown",
   "metadata": {},
   "source": [
    "Based on the above histograms (examined for many different starting indices), it seems reasonable to assume that the distribution of patient's protein expression is about normally distributed, with means varying by orders of magnitude depending on the protein."
   ]
  },
  {
   "cell_type": "markdown",
   "metadata": {},
   "source": [
    "The `clinical` data provide measurements of the progression of Parkinson's, where we can specifically look at `updrs_1`, `updrs_2`, `updrs_3`, and `updrs_4` for the ratings provided [here](https://www.movementdisorders.org/MDS-Files1/PDFs/Rating-Scales/MDS-UPDRS_English_FINAL.pdf)."
   ]
  },
  {
   "cell_type": "code",
   "execution_count": 8,
   "metadata": {
    "collapsed": false,
    "jupyter": {
     "outputs_hidden": false
    },
    "pycharm": {
     "name": "#%%\n"
    }
   },
   "outputs": [
    {
     "data": {
      "text/html": [
       "<div>\n",
       "<style scoped>\n",
       "    .dataframe tbody tr th:only-of-type {\n",
       "        vertical-align: middle;\n",
       "    }\n",
       "\n",
       "    .dataframe tbody tr th {\n",
       "        vertical-align: top;\n",
       "    }\n",
       "\n",
       "    .dataframe thead th {\n",
       "        text-align: right;\n",
       "    }\n",
       "</style>\n",
       "<table border=\"1\" class=\"dataframe\">\n",
       "  <thead>\n",
       "    <tr style=\"text-align: right;\">\n",
       "      <th></th>\n",
       "      <th>visit_id</th>\n",
       "      <th>patient_id</th>\n",
       "      <th>visit_month</th>\n",
       "      <th>updrs_1</th>\n",
       "      <th>updrs_2</th>\n",
       "      <th>updrs_3</th>\n",
       "      <th>updrs_4</th>\n",
       "      <th>upd23b_clinical_state_on_medication</th>\n",
       "    </tr>\n",
       "  </thead>\n",
       "  <tbody>\n",
       "    <tr>\n",
       "      <th>0</th>\n",
       "      <td>55_0</td>\n",
       "      <td>55</td>\n",
       "      <td>0</td>\n",
       "      <td>10.0</td>\n",
       "      <td>6.0</td>\n",
       "      <td>6</td>\n",
       "      <td>NaN</td>\n",
       "      <td>NaN</td>\n",
       "    </tr>\n",
       "    <tr>\n",
       "      <th>1</th>\n",
       "      <td>55_3</td>\n",
       "      <td>55</td>\n",
       "      <td>3</td>\n",
       "      <td>10.0</td>\n",
       "      <td>7.0</td>\n",
       "      <td>19</td>\n",
       "      <td>NaN</td>\n",
       "      <td>NaN</td>\n",
       "    </tr>\n",
       "    <tr>\n",
       "      <th>2</th>\n",
       "      <td>55_6</td>\n",
       "      <td>55</td>\n",
       "      <td>6</td>\n",
       "      <td>8.0</td>\n",
       "      <td>10.0</td>\n",
       "      <td>58</td>\n",
       "      <td>NaN</td>\n",
       "      <td>NaN</td>\n",
       "    </tr>\n",
       "    <tr>\n",
       "      <th>3</th>\n",
       "      <td>55_9</td>\n",
       "      <td>55</td>\n",
       "      <td>9</td>\n",
       "      <td>8.0</td>\n",
       "      <td>9.0</td>\n",
       "      <td>17</td>\n",
       "      <td>0.0</td>\n",
       "      <td>On</td>\n",
       "    </tr>\n",
       "    <tr>\n",
       "      <th>4</th>\n",
       "      <td>55_12</td>\n",
       "      <td>55</td>\n",
       "      <td>12</td>\n",
       "      <td>10.0</td>\n",
       "      <td>10.0</td>\n",
       "      <td>2</td>\n",
       "      <td>0.0</td>\n",
       "      <td>On</td>\n",
       "    </tr>\n",
       "    <tr>\n",
       "      <th>...</th>\n",
       "      <td>...</td>\n",
       "      <td>...</td>\n",
       "      <td>...</td>\n",
       "      <td>...</td>\n",
       "      <td>...</td>\n",
       "      <td>...</td>\n",
       "      <td>...</td>\n",
       "      <td>...</td>\n",
       "    </tr>\n",
       "    <tr>\n",
       "      <th>2610</th>\n",
       "      <td>65043_48</td>\n",
       "      <td>65043</td>\n",
       "      <td>48</td>\n",
       "      <td>7.0</td>\n",
       "      <td>6.0</td>\n",
       "      <td>51</td>\n",
       "      <td>0.0</td>\n",
       "      <td>Off</td>\n",
       "    </tr>\n",
       "    <tr>\n",
       "      <th>2611</th>\n",
       "      <td>65043_54</td>\n",
       "      <td>65043</td>\n",
       "      <td>54</td>\n",
       "      <td>4.0</td>\n",
       "      <td>8.0</td>\n",
       "      <td>55</td>\n",
       "      <td>1.0</td>\n",
       "      <td>Off</td>\n",
       "    </tr>\n",
       "    <tr>\n",
       "      <th>2612</th>\n",
       "      <td>65043_60</td>\n",
       "      <td>65043</td>\n",
       "      <td>60</td>\n",
       "      <td>6.0</td>\n",
       "      <td>6.0</td>\n",
       "      <td>0</td>\n",
       "      <td>1.0</td>\n",
       "      <td>Off</td>\n",
       "    </tr>\n",
       "    <tr>\n",
       "      <th>2613</th>\n",
       "      <td>65043_72</td>\n",
       "      <td>65043</td>\n",
       "      <td>72</td>\n",
       "      <td>3.0</td>\n",
       "      <td>9.0</td>\n",
       "      <td>58</td>\n",
       "      <td>1.0</td>\n",
       "      <td>Off</td>\n",
       "    </tr>\n",
       "    <tr>\n",
       "      <th>2614</th>\n",
       "      <td>65043_84</td>\n",
       "      <td>65043</td>\n",
       "      <td>84</td>\n",
       "      <td>7.0</td>\n",
       "      <td>9.0</td>\n",
       "      <td>0</td>\n",
       "      <td>3.0</td>\n",
       "      <td>Off</td>\n",
       "    </tr>\n",
       "  </tbody>\n",
       "</table>\n",
       "<p>2615 rows × 8 columns</p>\n",
       "</div>"
      ],
      "text/plain": [
       "      visit_id  patient_id  visit_month  updrs_1  updrs_2  updrs_3  updrs_4  \\\n",
       "0         55_0          55            0     10.0      6.0        6      NaN   \n",
       "1         55_3          55            3     10.0      7.0       19      NaN   \n",
       "2         55_6          55            6      8.0     10.0       58      NaN   \n",
       "3         55_9          55            9      8.0      9.0       17      0.0   \n",
       "4        55_12          55           12     10.0     10.0        2      0.0   \n",
       "...        ...         ...          ...      ...      ...      ...      ...   \n",
       "2610  65043_48       65043           48      7.0      6.0       51      0.0   \n",
       "2611  65043_54       65043           54      4.0      8.0       55      1.0   \n",
       "2612  65043_60       65043           60      6.0      6.0        0      1.0   \n",
       "2613  65043_72       65043           72      3.0      9.0       58      1.0   \n",
       "2614  65043_84       65043           84      7.0      9.0        0      3.0   \n",
       "\n",
       "     upd23b_clinical_state_on_medication  \n",
       "0                                    NaN  \n",
       "1                                    NaN  \n",
       "2                                    NaN  \n",
       "3                                     On  \n",
       "4                                     On  \n",
       "...                                  ...  \n",
       "2610                                 Off  \n",
       "2611                                 Off  \n",
       "2612                                 Off  \n",
       "2613                                 Off  \n",
       "2614                                 Off  \n",
       "\n",
       "[2615 rows x 8 columns]"
      ]
     },
     "execution_count": 8,
     "metadata": {},
     "output_type": "execute_result"
    }
   ],
   "source": [
    "clinical"
   ]
  },
  {
   "cell_type": "code",
   "execution_count": 55,
   "metadata": {},
   "outputs": [
    {
     "ename": "TypeError",
     "evalue": "unsupported operand type(s) for /: 'str' and 'int'",
     "output_type": "error",
     "traceback": [
      "\u001b[0;31m---------------------------------------------------------------------------\u001b[0m",
      "\u001b[0;31mTypeError\u001b[0m                                 Traceback (most recent call last)",
      "Input \u001b[0;32mIn [55]\u001b[0m, in \u001b[0;36m<cell line: 1>\u001b[0;34m()\u001b[0m\n\u001b[1;32m      1\u001b[0m \u001b[38;5;28;01mfor\u001b[39;00m curr_updr \u001b[38;5;129;01min\u001b[39;00m [\u001b[38;5;124m\"\u001b[39m\u001b[38;5;124mupdrs_1\u001b[39m\u001b[38;5;124m\"\u001b[39m,\u001b[38;5;124m\"\u001b[39m\u001b[38;5;124mupdrs_2\u001b[39m\u001b[38;5;124m\"\u001b[39m,\u001b[38;5;124m\"\u001b[39m\u001b[38;5;124mupdrs_3\u001b[39m\u001b[38;5;124m\"\u001b[39m,\u001b[38;5;124m\"\u001b[39m\u001b[38;5;124mupdrs_4\u001b[39m\u001b[38;5;124m\"\u001b[39m]:\n\u001b[0;32m----> 2\u001b[0m     corr \u001b[38;5;241m=\u001b[39m \u001b[43mclinical\u001b[49m\u001b[43m[\u001b[49m\u001b[38;5;124;43m\"\u001b[39;49m\u001b[38;5;124;43mupd23b_clinical_state_on_medication\u001b[39;49m\u001b[38;5;124;43m\"\u001b[39;49m\u001b[43m]\u001b[49m\u001b[38;5;241;43m.\u001b[39;49m\u001b[43mcorr\u001b[49m\u001b[43m(\u001b[49m\u001b[43mclinical\u001b[49m\u001b[43m[\u001b[49m\u001b[43mcurr_updr\u001b[49m\u001b[43m]\u001b[49m\u001b[43m)\u001b[49m\n\u001b[1;32m      3\u001b[0m     \u001b[38;5;28mprint\u001b[39m(\u001b[38;5;124mf\u001b[39m\u001b[38;5;124m\"\u001b[39m\u001b[38;5;124mCorrelation between \u001b[39m\u001b[38;5;132;01m{\u001b[39;00mcurr_updr\u001b[38;5;132;01m}\u001b[39;00m\u001b[38;5;124m and on medication:\u001b[39m\u001b[38;5;130;01m\\t\u001b[39;00m\u001b[38;5;132;01m{\u001b[39;00mcorr\u001b[38;5;132;01m}\u001b[39;00m\u001b[38;5;124m\"\u001b[39m)\n",
      "File \u001b[0;32m~/miniconda3/lib/python3.9/site-packages/pandas/core/series.py:2760\u001b[0m, in \u001b[0;36mSeries.corr\u001b[0;34m(self, other, method, min_periods)\u001b[0m\n\u001b[1;32m   2757\u001b[0m     \u001b[38;5;28;01mreturn\u001b[39;00m np\u001b[38;5;241m.\u001b[39mnan\n\u001b[1;32m   2759\u001b[0m \u001b[38;5;28;01mif\u001b[39;00m method \u001b[38;5;129;01min\u001b[39;00m [\u001b[38;5;124m\"\u001b[39m\u001b[38;5;124mpearson\u001b[39m\u001b[38;5;124m\"\u001b[39m, \u001b[38;5;124m\"\u001b[39m\u001b[38;5;124mspearman\u001b[39m\u001b[38;5;124m\"\u001b[39m, \u001b[38;5;124m\"\u001b[39m\u001b[38;5;124mkendall\u001b[39m\u001b[38;5;124m\"\u001b[39m] \u001b[38;5;129;01mor\u001b[39;00m callable(method):\n\u001b[0;32m-> 2760\u001b[0m     \u001b[38;5;28;01mreturn\u001b[39;00m \u001b[43mnanops\u001b[49m\u001b[38;5;241;43m.\u001b[39;49m\u001b[43mnancorr\u001b[49m\u001b[43m(\u001b[49m\n\u001b[1;32m   2761\u001b[0m \u001b[43m        \u001b[49m\u001b[43mthis\u001b[49m\u001b[38;5;241;43m.\u001b[39;49m\u001b[43mvalues\u001b[49m\u001b[43m,\u001b[49m\u001b[43m \u001b[49m\u001b[43mother\u001b[49m\u001b[38;5;241;43m.\u001b[39;49m\u001b[43mvalues\u001b[49m\u001b[43m,\u001b[49m\u001b[43m \u001b[49m\u001b[43mmethod\u001b[49m\u001b[38;5;241;43m=\u001b[39;49m\u001b[43mmethod\u001b[49m\u001b[43m,\u001b[49m\u001b[43m \u001b[49m\u001b[43mmin_periods\u001b[49m\u001b[38;5;241;43m=\u001b[39;49m\u001b[43mmin_periods\u001b[49m\n\u001b[1;32m   2762\u001b[0m \u001b[43m    \u001b[49m\u001b[43m)\u001b[49m\n\u001b[1;32m   2764\u001b[0m \u001b[38;5;28;01mraise\u001b[39;00m \u001b[38;5;167;01mValueError\u001b[39;00m(\n\u001b[1;32m   2765\u001b[0m     \u001b[38;5;124m\"\u001b[39m\u001b[38;5;124mmethod must be either \u001b[39m\u001b[38;5;124m'\u001b[39m\u001b[38;5;124mpearson\u001b[39m\u001b[38;5;124m'\u001b[39m\u001b[38;5;124m, \u001b[39m\u001b[38;5;124m\"\u001b[39m\n\u001b[1;32m   2766\u001b[0m     \u001b[38;5;124m\"\u001b[39m\u001b[38;5;124m'\u001b[39m\u001b[38;5;124mspearman\u001b[39m\u001b[38;5;124m'\u001b[39m\u001b[38;5;124m, \u001b[39m\u001b[38;5;124m'\u001b[39m\u001b[38;5;124mkendall\u001b[39m\u001b[38;5;124m'\u001b[39m\u001b[38;5;124m, or a callable, \u001b[39m\u001b[38;5;124m\"\u001b[39m\n\u001b[1;32m   2767\u001b[0m     \u001b[38;5;124mf\u001b[39m\u001b[38;5;124m\"\u001b[39m\u001b[38;5;124m'\u001b[39m\u001b[38;5;132;01m{\u001b[39;00mmethod\u001b[38;5;132;01m}\u001b[39;00m\u001b[38;5;124m'\u001b[39m\u001b[38;5;124m was supplied\u001b[39m\u001b[38;5;124m\"\u001b[39m\n\u001b[1;32m   2768\u001b[0m )\n",
      "File \u001b[0;32m~/miniconda3/lib/python3.9/site-packages/pandas/core/nanops.py:93\u001b[0m, in \u001b[0;36mdisallow.__call__.<locals>._f\u001b[0;34m(*args, **kwargs)\u001b[0m\n\u001b[1;32m     91\u001b[0m \u001b[38;5;28;01mtry\u001b[39;00m:\n\u001b[1;32m     92\u001b[0m     \u001b[38;5;28;01mwith\u001b[39;00m np\u001b[38;5;241m.\u001b[39merrstate(invalid\u001b[38;5;241m=\u001b[39m\u001b[38;5;124m\"\u001b[39m\u001b[38;5;124mignore\u001b[39m\u001b[38;5;124m\"\u001b[39m):\n\u001b[0;32m---> 93\u001b[0m         \u001b[38;5;28;01mreturn\u001b[39;00m \u001b[43mf\u001b[49m\u001b[43m(\u001b[49m\u001b[38;5;241;43m*\u001b[39;49m\u001b[43margs\u001b[49m\u001b[43m,\u001b[49m\u001b[43m \u001b[49m\u001b[38;5;241;43m*\u001b[39;49m\u001b[38;5;241;43m*\u001b[39;49m\u001b[43mkwargs\u001b[49m\u001b[43m)\u001b[49m\n\u001b[1;32m     94\u001b[0m \u001b[38;5;28;01mexcept\u001b[39;00m \u001b[38;5;167;01mValueError\u001b[39;00m \u001b[38;5;28;01mas\u001b[39;00m e:\n\u001b[1;32m     95\u001b[0m     \u001b[38;5;66;03m# we want to transform an object array\u001b[39;00m\n\u001b[1;32m     96\u001b[0m     \u001b[38;5;66;03m# ValueError message to the more typical TypeError\u001b[39;00m\n\u001b[1;32m     97\u001b[0m     \u001b[38;5;66;03m# e.g. this is normally a disallowed function on\u001b[39;00m\n\u001b[1;32m     98\u001b[0m     \u001b[38;5;66;03m# object arrays that contain strings\u001b[39;00m\n\u001b[1;32m     99\u001b[0m     \u001b[38;5;28;01mif\u001b[39;00m is_object_dtype(args[\u001b[38;5;241m0\u001b[39m]):\n",
      "File \u001b[0;32m~/miniconda3/lib/python3.9/site-packages/pandas/core/nanops.py:1554\u001b[0m, in \u001b[0;36mnancorr\u001b[0;34m(a, b, method, min_periods)\u001b[0m\n\u001b[1;32m   1551\u001b[0m     \u001b[38;5;28;01mreturn\u001b[39;00m np\u001b[38;5;241m.\u001b[39mnan\n\u001b[1;32m   1553\u001b[0m f \u001b[38;5;241m=\u001b[39m get_corr_func(method)\n\u001b[0;32m-> 1554\u001b[0m \u001b[38;5;28;01mreturn\u001b[39;00m \u001b[43mf\u001b[49m\u001b[43m(\u001b[49m\u001b[43ma\u001b[49m\u001b[43m,\u001b[49m\u001b[43m \u001b[49m\u001b[43mb\u001b[49m\u001b[43m)\u001b[49m\n",
      "File \u001b[0;32m~/miniconda3/lib/python3.9/site-packages/pandas/core/nanops.py:1575\u001b[0m, in \u001b[0;36mget_corr_func.<locals>.func\u001b[0;34m(a, b)\u001b[0m\n\u001b[1;32m   1574\u001b[0m \u001b[38;5;28;01mdef\u001b[39;00m \u001b[38;5;21mfunc\u001b[39m(a, b):\n\u001b[0;32m-> 1575\u001b[0m     \u001b[38;5;28;01mreturn\u001b[39;00m \u001b[43mnp\u001b[49m\u001b[38;5;241;43m.\u001b[39;49m\u001b[43mcorrcoef\u001b[49m\u001b[43m(\u001b[49m\u001b[43ma\u001b[49m\u001b[43m,\u001b[49m\u001b[43m \u001b[49m\u001b[43mb\u001b[49m\u001b[43m)\u001b[49m[\u001b[38;5;241m0\u001b[39m, \u001b[38;5;241m1\u001b[39m]\n",
      "File \u001b[0;32m<__array_function__ internals>:5\u001b[0m, in \u001b[0;36mcorrcoef\u001b[0;34m(*args, **kwargs)\u001b[0m\n",
      "File \u001b[0;32m~/miniconda3/lib/python3.9/site-packages/numpy/lib/function_base.py:2634\u001b[0m, in \u001b[0;36mcorrcoef\u001b[0;34m(x, y, rowvar, bias, ddof, dtype)\u001b[0m\n\u001b[1;32m   2630\u001b[0m \u001b[38;5;28;01mif\u001b[39;00m bias \u001b[38;5;129;01mis\u001b[39;00m \u001b[38;5;129;01mnot\u001b[39;00m np\u001b[38;5;241m.\u001b[39m_NoValue \u001b[38;5;129;01mor\u001b[39;00m ddof \u001b[38;5;129;01mis\u001b[39;00m \u001b[38;5;129;01mnot\u001b[39;00m np\u001b[38;5;241m.\u001b[39m_NoValue:\n\u001b[1;32m   2631\u001b[0m     \u001b[38;5;66;03m# 2015-03-15, 1.10\u001b[39;00m\n\u001b[1;32m   2632\u001b[0m     warnings\u001b[38;5;241m.\u001b[39mwarn(\u001b[38;5;124m'\u001b[39m\u001b[38;5;124mbias and ddof have no effect and are deprecated\u001b[39m\u001b[38;5;124m'\u001b[39m,\n\u001b[1;32m   2633\u001b[0m                   \u001b[38;5;167;01mDeprecationWarning\u001b[39;00m, stacklevel\u001b[38;5;241m=\u001b[39m\u001b[38;5;241m3\u001b[39m)\n\u001b[0;32m-> 2634\u001b[0m c \u001b[38;5;241m=\u001b[39m \u001b[43mcov\u001b[49m\u001b[43m(\u001b[49m\u001b[43mx\u001b[49m\u001b[43m,\u001b[49m\u001b[43m \u001b[49m\u001b[43my\u001b[49m\u001b[43m,\u001b[49m\u001b[43m \u001b[49m\u001b[43mrowvar\u001b[49m\u001b[43m,\u001b[49m\u001b[43m \u001b[49m\u001b[43mdtype\u001b[49m\u001b[38;5;241;43m=\u001b[39;49m\u001b[43mdtype\u001b[49m\u001b[43m)\u001b[49m\n\u001b[1;32m   2635\u001b[0m \u001b[38;5;28;01mtry\u001b[39;00m:\n\u001b[1;32m   2636\u001b[0m     d \u001b[38;5;241m=\u001b[39m diag(c)\n",
      "File \u001b[0;32m<__array_function__ internals>:5\u001b[0m, in \u001b[0;36mcov\u001b[0;34m(*args, **kwargs)\u001b[0m\n",
      "File \u001b[0;32m~/miniconda3/lib/python3.9/site-packages/numpy/lib/function_base.py:2469\u001b[0m, in \u001b[0;36mcov\u001b[0;34m(m, y, rowvar, bias, ddof, fweights, aweights, dtype)\u001b[0m\n\u001b[1;32m   2466\u001b[0m     \u001b[38;5;28;01melse\u001b[39;00m:\n\u001b[1;32m   2467\u001b[0m         w \u001b[38;5;241m*\u001b[39m\u001b[38;5;241m=\u001b[39m aweights\n\u001b[0;32m-> 2469\u001b[0m avg, w_sum \u001b[38;5;241m=\u001b[39m \u001b[43maverage\u001b[49m\u001b[43m(\u001b[49m\u001b[43mX\u001b[49m\u001b[43m,\u001b[49m\u001b[43m \u001b[49m\u001b[43maxis\u001b[49m\u001b[38;5;241;43m=\u001b[39;49m\u001b[38;5;241;43m1\u001b[39;49m\u001b[43m,\u001b[49m\u001b[43m \u001b[49m\u001b[43mweights\u001b[49m\u001b[38;5;241;43m=\u001b[39;49m\u001b[43mw\u001b[49m\u001b[43m,\u001b[49m\u001b[43m \u001b[49m\u001b[43mreturned\u001b[49m\u001b[38;5;241;43m=\u001b[39;49m\u001b[38;5;28;43;01mTrue\u001b[39;49;00m\u001b[43m)\u001b[49m\n\u001b[1;32m   2470\u001b[0m w_sum \u001b[38;5;241m=\u001b[39m w_sum[\u001b[38;5;241m0\u001b[39m]\n\u001b[1;32m   2472\u001b[0m \u001b[38;5;66;03m# Determine the normalization\u001b[39;00m\n",
      "File \u001b[0;32m<__array_function__ internals>:5\u001b[0m, in \u001b[0;36maverage\u001b[0;34m(*args, **kwargs)\u001b[0m\n",
      "File \u001b[0;32m~/miniconda3/lib/python3.9/site-packages/numpy/lib/function_base.py:380\u001b[0m, in \u001b[0;36maverage\u001b[0;34m(a, axis, weights, returned)\u001b[0m\n\u001b[1;32m    377\u001b[0m a \u001b[38;5;241m=\u001b[39m np\u001b[38;5;241m.\u001b[39masanyarray(a)\n\u001b[1;32m    379\u001b[0m \u001b[38;5;28;01mif\u001b[39;00m weights \u001b[38;5;129;01mis\u001b[39;00m \u001b[38;5;28;01mNone\u001b[39;00m:\n\u001b[0;32m--> 380\u001b[0m     avg \u001b[38;5;241m=\u001b[39m \u001b[43ma\u001b[49m\u001b[38;5;241;43m.\u001b[39;49m\u001b[43mmean\u001b[49m\u001b[43m(\u001b[49m\u001b[43maxis\u001b[49m\u001b[43m)\u001b[49m\n\u001b[1;32m    381\u001b[0m     scl \u001b[38;5;241m=\u001b[39m avg\u001b[38;5;241m.\u001b[39mdtype\u001b[38;5;241m.\u001b[39mtype(a\u001b[38;5;241m.\u001b[39msize\u001b[38;5;241m/\u001b[39mavg\u001b[38;5;241m.\u001b[39msize)\n\u001b[1;32m    382\u001b[0m \u001b[38;5;28;01melse\u001b[39;00m:\n",
      "File \u001b[0;32m~/miniconda3/lib/python3.9/site-packages/numpy/core/_methods.py:180\u001b[0m, in \u001b[0;36m_mean\u001b[0;34m(a, axis, dtype, out, keepdims, where)\u001b[0m\n\u001b[1;32m    178\u001b[0m ret \u001b[38;5;241m=\u001b[39m umr_sum(arr, axis, dtype, out, keepdims, where\u001b[38;5;241m=\u001b[39mwhere)\n\u001b[1;32m    179\u001b[0m \u001b[38;5;28;01mif\u001b[39;00m \u001b[38;5;28misinstance\u001b[39m(ret, mu\u001b[38;5;241m.\u001b[39mndarray):\n\u001b[0;32m--> 180\u001b[0m     ret \u001b[38;5;241m=\u001b[39m \u001b[43mum\u001b[49m\u001b[38;5;241;43m.\u001b[39;49m\u001b[43mtrue_divide\u001b[49m\u001b[43m(\u001b[49m\n\u001b[1;32m    181\u001b[0m \u001b[43m            \u001b[49m\u001b[43mret\u001b[49m\u001b[43m,\u001b[49m\u001b[43m \u001b[49m\u001b[43mrcount\u001b[49m\u001b[43m,\u001b[49m\u001b[43m \u001b[49m\u001b[43mout\u001b[49m\u001b[38;5;241;43m=\u001b[39;49m\u001b[43mret\u001b[49m\u001b[43m,\u001b[49m\u001b[43m \u001b[49m\u001b[43mcasting\u001b[49m\u001b[38;5;241;43m=\u001b[39;49m\u001b[38;5;124;43m'\u001b[39;49m\u001b[38;5;124;43munsafe\u001b[39;49m\u001b[38;5;124;43m'\u001b[39;49m\u001b[43m,\u001b[49m\u001b[43m \u001b[49m\u001b[43msubok\u001b[49m\u001b[38;5;241;43m=\u001b[39;49m\u001b[38;5;28;43;01mFalse\u001b[39;49;00m\u001b[43m)\u001b[49m\n\u001b[1;32m    182\u001b[0m     \u001b[38;5;28;01mif\u001b[39;00m is_float16_result \u001b[38;5;129;01mand\u001b[39;00m out \u001b[38;5;129;01mis\u001b[39;00m \u001b[38;5;28;01mNone\u001b[39;00m:\n\u001b[1;32m    183\u001b[0m         ret \u001b[38;5;241m=\u001b[39m arr\u001b[38;5;241m.\u001b[39mdtype\u001b[38;5;241m.\u001b[39mtype(ret)\n",
      "\u001b[0;31mTypeError\u001b[0m: unsupported operand type(s) for /: 'str' and 'int'"
     ]
    }
   ],
   "source": [
    "for curr_updr in [\"updrs_1\",\"updrs_2\",\"updrs_3\",\"updrs_4\"]:\n",
    "    corr = clinical[\"upd23b_clinical_state_on_medication\"].corr(clinical[curr_updr])\n",
    "    print(f\"Correlation between {curr_updr} and on medication:\\t{corr}\")"
   ]
  },
  {
   "cell_type": "code",
   "execution_count": 12,
   "metadata": {
    "collapsed": false,
    "jupyter": {
     "outputs_hidden": false
    },
    "pycharm": {
     "name": "#%%\n"
    }
   },
   "outputs": [
    {
     "data": {
      "text/plain": [
       "248"
      ]
     },
     "execution_count": 12,
     "metadata": {},
     "output_type": "execute_result"
    }
   ],
   "source": [
    "len(np.unique(clinical.patient_id))"
   ]
  },
  {
   "cell_type": "markdown",
   "metadata": {},
   "source": [
    "Above, we note that we have data for 248 different patients."
   ]
  },
  {
   "cell_type": "code",
   "execution_count": null,
   "metadata": {
    "collapsed": false,
    "jupyter": {
     "outputs_hidden": false
    },
    "pycharm": {
     "name": "#%%\n"
    }
   },
   "outputs": [],
   "source": []
  }
 ],
 "metadata": {
  "kernelspec": {
   "display_name": "Python 3 (ipykernel)",
   "language": "python",
   "name": "python3"
  },
  "language_info": {
   "codemirror_mode": {
    "name": "ipython",
    "version": 3
   },
   "file_extension": ".py",
   "mimetype": "text/x-python",
   "name": "python",
   "nbconvert_exporter": "python",
   "pygments_lexer": "ipython3",
   "version": "3.9.13"
  }
 },
 "nbformat": 4,
 "nbformat_minor": 4
}
