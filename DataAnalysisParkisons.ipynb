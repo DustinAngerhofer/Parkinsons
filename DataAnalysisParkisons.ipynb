{
 "cells": [
  {
   "cell_type": "markdown",
   "source": [],
   "metadata": {
    "collapsed": false
   }
  },
  {
   "cell_type": "code",
   "execution_count": 1,
   "metadata": {
    "collapsed": true
   },
   "outputs": [],
   "source": [
    "import numpy as np\n",
    "import pandas as pd"
   ]
  },
  {
   "cell_type": "code",
   "execution_count": 4,
   "outputs": [],
   "source": [
    "protiens = pd.read_csv('train_proteins.csv')\n",
    "cinical = pd.read_csv('train_clinical_data.csv')\n",
    "peptides = pd.read_csv('train_peptides.csv')\n"
   ],
   "metadata": {
    "collapsed": false,
    "pycharm": {
     "name": "#%%\n"
    }
   }
  },
  {
   "cell_type": "code",
   "execution_count": 5,
   "outputs": [
    {
     "data": {
      "text/plain": "         visit_id  visit_month  patient_id UniProt       NPX\n0            55_0            0          55  O00391   11254.3\n1            55_0            0          55  O00533  732430.0\n2            55_0            0          55  O00584   39585.8\n3            55_0            0          55  O14498   41526.9\n4            55_0            0          55  O14773   31238.0\n...           ...          ...         ...     ...       ...\n232736  58648_108          108       58648  Q9UBX5   27387.8\n232737  58648_108          108       58648  Q9UHG2  369437.0\n232738  58648_108          108       58648  Q9UKV8  105830.0\n232739  58648_108          108       58648  Q9Y646   21257.6\n232740  58648_108          108       58648  Q9Y6R7   17953.1\n\n[232741 rows x 5 columns]",
      "text/html": "<div>\n<style scoped>\n    .dataframe tbody tr th:only-of-type {\n        vertical-align: middle;\n    }\n\n    .dataframe tbody tr th {\n        vertical-align: top;\n    }\n\n    .dataframe thead th {\n        text-align: right;\n    }\n</style>\n<table border=\"1\" class=\"dataframe\">\n  <thead>\n    <tr style=\"text-align: right;\">\n      <th></th>\n      <th>visit_id</th>\n      <th>visit_month</th>\n      <th>patient_id</th>\n      <th>UniProt</th>\n      <th>NPX</th>\n    </tr>\n  </thead>\n  <tbody>\n    <tr>\n      <th>0</th>\n      <td>55_0</td>\n      <td>0</td>\n      <td>55</td>\n      <td>O00391</td>\n      <td>11254.3</td>\n    </tr>\n    <tr>\n      <th>1</th>\n      <td>55_0</td>\n      <td>0</td>\n      <td>55</td>\n      <td>O00533</td>\n      <td>732430.0</td>\n    </tr>\n    <tr>\n      <th>2</th>\n      <td>55_0</td>\n      <td>0</td>\n      <td>55</td>\n      <td>O00584</td>\n      <td>39585.8</td>\n    </tr>\n    <tr>\n      <th>3</th>\n      <td>55_0</td>\n      <td>0</td>\n      <td>55</td>\n      <td>O14498</td>\n      <td>41526.9</td>\n    </tr>\n    <tr>\n      <th>4</th>\n      <td>55_0</td>\n      <td>0</td>\n      <td>55</td>\n      <td>O14773</td>\n      <td>31238.0</td>\n    </tr>\n    <tr>\n      <th>...</th>\n      <td>...</td>\n      <td>...</td>\n      <td>...</td>\n      <td>...</td>\n      <td>...</td>\n    </tr>\n    <tr>\n      <th>232736</th>\n      <td>58648_108</td>\n      <td>108</td>\n      <td>58648</td>\n      <td>Q9UBX5</td>\n      <td>27387.8</td>\n    </tr>\n    <tr>\n      <th>232737</th>\n      <td>58648_108</td>\n      <td>108</td>\n      <td>58648</td>\n      <td>Q9UHG2</td>\n      <td>369437.0</td>\n    </tr>\n    <tr>\n      <th>232738</th>\n      <td>58648_108</td>\n      <td>108</td>\n      <td>58648</td>\n      <td>Q9UKV8</td>\n      <td>105830.0</td>\n    </tr>\n    <tr>\n      <th>232739</th>\n      <td>58648_108</td>\n      <td>108</td>\n      <td>58648</td>\n      <td>Q9Y646</td>\n      <td>21257.6</td>\n    </tr>\n    <tr>\n      <th>232740</th>\n      <td>58648_108</td>\n      <td>108</td>\n      <td>58648</td>\n      <td>Q9Y6R7</td>\n      <td>17953.1</td>\n    </tr>\n  </tbody>\n</table>\n<p>232741 rows × 5 columns</p>\n</div>"
     },
     "execution_count": 5,
     "metadata": {},
     "output_type": "execute_result"
    }
   ],
   "source": [
    "protiens"
   ],
   "metadata": {
    "collapsed": false,
    "pycharm": {
     "name": "#%%\n"
    }
   }
  },
  {
   "cell_type": "code",
   "execution_count": 8,
   "outputs": [
    {
     "data": {
      "text/plain": "array(['O00391', 'O00533', 'O00584', 'O14498', 'O14773', 'O14791',\n       'O15240', 'O15394', 'O43505', 'O60888', 'O75144', 'O75326',\n       'O94919', 'P00441', 'P00450', 'P00734', 'P00736', 'P00738',\n       'P00746', 'P00747', 'P00748', 'P00751', 'P01008', 'P01009',\n       'P01011', 'P01019', 'P01023', 'P01024', 'P01031', 'P01033',\n       'P01034', 'P01042', 'P01344', 'P01591', 'P01594', 'P01608',\n       'P01621', 'P01717', 'P01780', 'P01833', 'P01834', 'P01857',\n       'P01859', 'P01860', 'P01861', 'P01876', 'P01877', 'P02452',\n       'P02647', 'P02649', 'P02652', 'P02655', 'P02656', 'P02671',\n       'P02675', 'P02679', 'P02747', 'P02748', 'P02749', 'P02750',\n       'P02751', 'P02753', 'P02760', 'P02763', 'P02765', 'P02766',\n       'P02768', 'P02774', 'P02787', 'P02790', 'P02792', 'P04004',\n       'P04075', 'P04156', 'P04180', 'P04196', 'P04207', 'P04211',\n       'P04216', 'P04217', 'P04275', 'P04406', 'P04433', 'P05060',\n       'P05067', 'P05090', 'P05155', 'P05156', 'P05408', 'P05452',\n       'P05546', 'P06310', 'P06396', 'P06454', 'P06681', 'P06727',\n       'P07195', 'P07225', 'P07333', 'P07339', 'P07602', 'P07711',\n       'P07858', 'P07998', 'P08123', 'P08133', 'P08253', 'P08294',\n       'P08493', 'P08571', 'P08603', 'P08637', 'P08697', 'P09104',\n       'P09486', 'P09871', 'P10451', 'P10643', 'P10645', 'P10909',\n       'P11142', 'P11277', 'P12109', 'P13473', 'P13521', 'P13591',\n       'P13611', 'P13671', 'P13987', 'P14174', 'P14314', 'P14618',\n       'P16035', 'P16070', 'P16152', 'P16870', 'P17174', 'P17936',\n       'P18065', 'P19021', 'P19652', 'P19823', 'P19827', 'P20774',\n       'P20933', 'P23083', 'P23142', 'P24592', 'P25311', 'P27169',\n       'P30086', 'P31997', 'P32754', 'P35542', 'P36222', 'P36955',\n       'P36980', 'P39060', 'P40925', 'P41222', 'P43121', 'P43251',\n       'P43652', 'P49588', 'P49908', 'P51884', 'P54289', 'P55290',\n       'P60174', 'P61278', 'P61626', 'P61769', 'P61916', 'P80748',\n       'P98160', 'Q02818', 'Q06481', 'Q08380', 'Q12805', 'Q12841',\n       'Q12907', 'Q13283', 'Q13332', 'Q13449', 'Q13451', 'Q13740',\n       'Q14118', 'Q14508', 'Q14515', 'Q14624', 'Q15904', 'Q16270',\n       'Q16610', 'Q562R1', 'Q6UX71', 'Q6UXB8', 'Q6UXD5', 'Q7Z3B1',\n       'Q7Z5P9', 'Q8IWV7', 'Q8N2S1', 'Q8NBJ4', 'Q8NE71', 'Q92520',\n       'Q92823', 'Q92876', 'Q96BZ4', 'Q96KN2', 'Q96PD5', 'Q96S96',\n       'Q99435', 'Q99674', 'Q99683', 'Q99829', 'Q99832', 'Q99969',\n       'Q9BY67', 'Q9HDC9', 'Q9NQ79', 'Q9NYU2', 'Q9UBR2', 'Q9UBX5',\n       'Q9UHG2', 'Q9UKV8', 'Q9UNU6', 'Q9Y646', 'Q9Y6R7'], dtype=object)"
     },
     "execution_count": 8,
     "metadata": {},
     "output_type": "execute_result"
    }
   ],
   "source": [
    "np.unique(protiens.UniProt)"
   ],
   "metadata": {
    "collapsed": false,
    "pycharm": {
     "name": "#%%\n"
    }
   }
  },
  {
   "cell_type": "code",
   "execution_count": 6,
   "outputs": [
    {
     "data": {
      "text/plain": "      visit_id  patient_id  visit_month  updrs_1  updrs_2  updrs_3  updrs_4  \\\n0         55_0          55            0     10.0      6.0        6      NaN   \n1         55_3          55            3     10.0      7.0       19      NaN   \n2         55_6          55            6      8.0     10.0       58      NaN   \n3         55_9          55            9      8.0      9.0       17      0.0   \n4        55_12          55           12     10.0     10.0        2      0.0   \n...        ...         ...          ...      ...      ...      ...      ...   \n2610  65043_48       65043           48      7.0      6.0       51      0.0   \n2611  65043_54       65043           54      4.0      8.0       55      1.0   \n2612  65043_60       65043           60      6.0      6.0        0      1.0   \n2613  65043_72       65043           72      3.0      9.0       58      1.0   \n2614  65043_84       65043           84      7.0      9.0        0      3.0   \n\n     upd23b_clinical_state_on_medication  \n0                                    NaN  \n1                                    NaN  \n2                                    NaN  \n3                                     On  \n4                                     On  \n...                                  ...  \n2610                                 Off  \n2611                                 Off  \n2612                                 Off  \n2613                                 Off  \n2614                                 Off  \n\n[2615 rows x 8 columns]",
      "text/html": "<div>\n<style scoped>\n    .dataframe tbody tr th:only-of-type {\n        vertical-align: middle;\n    }\n\n    .dataframe tbody tr th {\n        vertical-align: top;\n    }\n\n    .dataframe thead th {\n        text-align: right;\n    }\n</style>\n<table border=\"1\" class=\"dataframe\">\n  <thead>\n    <tr style=\"text-align: right;\">\n      <th></th>\n      <th>visit_id</th>\n      <th>patient_id</th>\n      <th>visit_month</th>\n      <th>updrs_1</th>\n      <th>updrs_2</th>\n      <th>updrs_3</th>\n      <th>updrs_4</th>\n      <th>upd23b_clinical_state_on_medication</th>\n    </tr>\n  </thead>\n  <tbody>\n    <tr>\n      <th>0</th>\n      <td>55_0</td>\n      <td>55</td>\n      <td>0</td>\n      <td>10.0</td>\n      <td>6.0</td>\n      <td>6</td>\n      <td>NaN</td>\n      <td>NaN</td>\n    </tr>\n    <tr>\n      <th>1</th>\n      <td>55_3</td>\n      <td>55</td>\n      <td>3</td>\n      <td>10.0</td>\n      <td>7.0</td>\n      <td>19</td>\n      <td>NaN</td>\n      <td>NaN</td>\n    </tr>\n    <tr>\n      <th>2</th>\n      <td>55_6</td>\n      <td>55</td>\n      <td>6</td>\n      <td>8.0</td>\n      <td>10.0</td>\n      <td>58</td>\n      <td>NaN</td>\n      <td>NaN</td>\n    </tr>\n    <tr>\n      <th>3</th>\n      <td>55_9</td>\n      <td>55</td>\n      <td>9</td>\n      <td>8.0</td>\n      <td>9.0</td>\n      <td>17</td>\n      <td>0.0</td>\n      <td>On</td>\n    </tr>\n    <tr>\n      <th>4</th>\n      <td>55_12</td>\n      <td>55</td>\n      <td>12</td>\n      <td>10.0</td>\n      <td>10.0</td>\n      <td>2</td>\n      <td>0.0</td>\n      <td>On</td>\n    </tr>\n    <tr>\n      <th>...</th>\n      <td>...</td>\n      <td>...</td>\n      <td>...</td>\n      <td>...</td>\n      <td>...</td>\n      <td>...</td>\n      <td>...</td>\n      <td>...</td>\n    </tr>\n    <tr>\n      <th>2610</th>\n      <td>65043_48</td>\n      <td>65043</td>\n      <td>48</td>\n      <td>7.0</td>\n      <td>6.0</td>\n      <td>51</td>\n      <td>0.0</td>\n      <td>Off</td>\n    </tr>\n    <tr>\n      <th>2611</th>\n      <td>65043_54</td>\n      <td>65043</td>\n      <td>54</td>\n      <td>4.0</td>\n      <td>8.0</td>\n      <td>55</td>\n      <td>1.0</td>\n      <td>Off</td>\n    </tr>\n    <tr>\n      <th>2612</th>\n      <td>65043_60</td>\n      <td>65043</td>\n      <td>60</td>\n      <td>6.0</td>\n      <td>6.0</td>\n      <td>0</td>\n      <td>1.0</td>\n      <td>Off</td>\n    </tr>\n    <tr>\n      <th>2613</th>\n      <td>65043_72</td>\n      <td>65043</td>\n      <td>72</td>\n      <td>3.0</td>\n      <td>9.0</td>\n      <td>58</td>\n      <td>1.0</td>\n      <td>Off</td>\n    </tr>\n    <tr>\n      <th>2614</th>\n      <td>65043_84</td>\n      <td>65043</td>\n      <td>84</td>\n      <td>7.0</td>\n      <td>9.0</td>\n      <td>0</td>\n      <td>3.0</td>\n      <td>Off</td>\n    </tr>\n  </tbody>\n</table>\n<p>2615 rows × 8 columns</p>\n</div>"
     },
     "execution_count": 6,
     "metadata": {},
     "output_type": "execute_result"
    }
   ],
   "source": [
    "cinical"
   ],
   "metadata": {
    "collapsed": false,
    "pycharm": {
     "name": "#%%\n"
    }
   }
  },
  {
   "cell_type": "code",
   "execution_count": 7,
   "outputs": [
    {
     "data": {
      "text/plain": "array([   55,   942,  1517,  1923,  2660,  3636,  3863,  4161,  4172,\n        4923,  5027,  5036,  5178,  5645,  5742,  6054,  6211,  6420,\n        7051,  7117,  7151,  7265,  7508,  7568,  7832,  7886,  8344,\n        8699, 10053, 10138, 10174, 10541, 10715, 10718, 11459, 11686,\n       11928, 12516, 12636, 12703, 12755, 12931, 13360, 13368, 13618,\n       13804, 13852, 13968, 14035, 14124, 14242, 14270, 14344, 14450,\n       14811, 15009, 15245, 15504, 15590, 16238, 16347, 16566, 16574,\n       16778, 16931, 17154, 17201, 17414, 17727, 18183, 18204, 18553,\n       18560, 19088, 20212, 20216, 20352, 20404, 20460, 20581, 20664,\n       20707, 20791, 20792, 21126, 21537, 21729, 22126, 22623, 23175,\n       23192, 23244, 23391, 23636, 24278, 24690, 24818, 24820, 24911,\n       25562, 25739, 25750, 25827, 25911, 26005, 26104, 26210, 26809,\n       27079, 27300, 27464, 27468, 27607, 27715, 27872, 27893, 27971,\n       27987, 28327, 28342, 28818, 29313, 29417, 30119, 30155, 30416,\n       30894, 30951, 31121, 31154, 31270, 31693, 33108, 33548, 33558,\n       34182, 35231, 35465, 35477, 35675, 35696, 36797, 37220, 37312,\n       37566, 38419, 39144, 39719, 40022, 40200, 40340, 40650, 40751,\n       40798, 40874, 40876, 40967, 40980, 41444, 41617, 41628, 41871,\n       41883, 41930, 42003, 42086, 42385, 42579, 44001, 44154, 44682,\n       44789, 45161, 45181, 45662, 46837, 47103, 47171, 47513, 47881,\n       48780, 48928, 49239, 49672, 49683, 49995, 50611, 50907, 51243,\n       51708, 51846, 51879, 51893, 51899, 52119, 52266, 52998, 53103,\n       54095, 54406, 54979, 55096, 55240, 55256, 55302, 55662, 56073,\n       56075, 56119, 56317, 56538, 56675, 56691, 56727, 57009, 57108,\n       57321, 57416, 57468, 57478, 57507, 57646, 58189, 58270, 58597,\n       58648, 58653, 58674, 58823, 59550, 59574, 60170, 60326, 60443,\n       60788, 60803, 61503, 61974, 62329, 62437, 62723, 62732, 62792,\n       63875, 63889, 64669, 64674, 65043])"
     },
     "execution_count": 7,
     "metadata": {},
     "output_type": "execute_result"
    }
   ],
   "source": [
    "np.unique(cinical.patient_id)"
   ],
   "metadata": {
    "collapsed": false,
    "pycharm": {
     "name": "#%%\n"
    }
   }
  },
  {
   "cell_type": "code",
   "execution_count": null,
   "outputs": [],
   "source": [],
   "metadata": {
    "collapsed": false,
    "pycharm": {
     "name": "#%%\n"
    }
   }
  }
 ],
 "metadata": {
  "kernelspec": {
   "display_name": "Python 3",
   "language": "python",
   "name": "python3"
  },
  "language_info": {
   "codemirror_mode": {
    "name": "ipython",
    "version": 2
   },
   "file_extension": ".py",
   "mimetype": "text/x-python",
   "name": "python",
   "nbconvert_exporter": "python",
   "pygments_lexer": "ipython2",
   "version": "2.7.6"
  }
 },
 "nbformat": 4,
 "nbformat_minor": 0
}